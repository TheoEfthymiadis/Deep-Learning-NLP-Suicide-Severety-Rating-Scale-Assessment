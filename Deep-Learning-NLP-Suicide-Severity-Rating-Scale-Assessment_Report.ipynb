{
 "cells": [
  {
   "attachments": {},
   "cell_type": "markdown",
   "metadata": {},
   "source": [
    "## Dataset summary\n",
    "#### The dataset that we used was created through a detailed annotation process that followed the Columbia University Guidelines. Specifically, 500 reddit posts were annotated by four practicing psychiatrists with respect to the potential of the writers to commit suicide.\n",
    "#### The labels follow the 5-class Suicide Severity Rating Scale with the following ordered classes: Supportive < Indicator < Ideation < Behavior < Attempt\n",
    "#### Our  work focused on predicting the SSRS label based on the reddit posts using NLP and, specifically, LSTM neural network."
   ]
  },
  {
   "cell_type": "markdown",
   "metadata": {},
   "source": [
    "##### This notebook presents a brief summary of our work. In order to run it, the user needs to copy three specific files to the directory of the running script.\n",
    "- 500_Reddit_users_posts_labels.csv (https://github.com/TheoEfthymiadis/Deep-Learning-NLP-Suicide-Severity-Rating-Scale-Assessment/blob/main/Data/500_Reddit_users_posts_labels.csv)\n",
    "- embedding_matrix.csv (https://github.com/TheoEfthymiadis/Deep-Learning-NLP-Suicide-Severity-Rating-Scale-Assessment/blob/main/Data/embedding_matrix.csv)\n",
    "- config7.json (https://github.com/TheoEfthymiadis/Deep-Learning-NLP-Suicide-Severity-Rating-Scale-Assessment/blob/main/Configurations/LSTM1/config7.json)"
   ]
  },
  {
   "cell_type": "markdown",
   "metadata": {},
   "source": [
    "## Data exploration - preprocessing"
   ]
  },
  {
   "cell_type": "code",
   "execution_count": 17,
   "metadata": {},
   "outputs": [
    {
     "name": "stderr",
     "output_type": "stream",
     "text": [
      "[nltk_data] Downloading package stopwords to\n",
      "[nltk_data]     C:\\Users\\Maria\\AppData\\Roaming\\nltk_data...\n",
      "[nltk_data]   Package stopwords is already up-to-date!\n"
     ]
    }
   ],
   "source": [
    "#Import libraries\n",
    "import numpy as np\n",
    "import pandas as pd\n",
    "import matplotlib.pyplot as plt \n",
    "import os\n",
    "\n",
    "from sklearn.model_selection import train_test_split\n",
    "\n",
    "from keras.preprocessing.sequence import pad_sequences\n",
    "from keras.preprocessing.text import Tokenizer\n",
    "\n",
    "import re\n",
    "import nltk\n",
    "nltk.download('stopwords')\n",
    "from nltk.corpus import stopwords\n",
    "from nltk.stem.porter import PorterStemmer"
   ]
  },
  {
   "cell_type": "code",
   "execution_count": 6,
   "metadata": {},
   "outputs": [],
   "source": [
    "# Define the directory paths\n",
    "root_dir = os.getcwd()"
   ]
  },
  {
   "cell_type": "code",
   "execution_count": 10,
   "metadata": {
    "scrolled": true
   },
   "outputs": [
    {
     "name": "stdout",
     "output_type": "stream",
     "text": [
      "     User                                               Post       Label\n",
      "0  user-0  ['Its not a viable option, and youll be leavin...  Supportive\n",
      "1  user-1  ['It can be hard to appreciate the notion that...    Ideation\n",
      "2  user-2  ['Hi, so last night i was sitting on the ledge...    Behavior\n",
      "3  user-3  ['I tried to kill my self once and failed badl...     Attempt\n",
      "4  user-4  ['Hi NEM3030. What sorts of things do you enjo...    Ideation\n"
     ]
    }
   ],
   "source": [
    "# Import the data\n",
    "ssrs = pd.read_csv(os.path.join(root_dir, '500_Reddit_users_posts_labels.csv'))\n",
    "print(ssrs.head())"
   ]
  },
  {
   "cell_type": "code",
   "execution_count": 11,
   "metadata": {},
   "outputs": [
    {
     "data": {
      "text/plain": [
       "User     0\n",
       "Post     0\n",
       "Label    0\n",
       "dtype: int64"
      ]
     },
     "execution_count": 11,
     "metadata": {},
     "output_type": "execute_result"
    }
   ],
   "source": [
    "# Check for any nulls values\n",
    "ssrs.isnull().sum()"
   ]
  },
  {
   "cell_type": "code",
   "execution_count": 12,
   "metadata": {},
   "outputs": [
    {
     "data": {
      "text/plain": [
       "Text(0.5, 1.0, 'Label Data Distribution')"
      ]
     },
     "execution_count": 12,
     "metadata": {},
     "output_type": "execute_result"
    },
    {
     "data": {
      "image/png": "[encoded data removed]",
      "text/plain": [
       "<Figure size 576x288 with 1 Axes>"
      ]
     },
     "metadata": {
      "needs_background": "light"
     },
     "output_type": "display_data"
    }
   ],
   "source": [
    "val_count = ssrs.Label.value_counts()\n",
    "\n",
    "plt.figure(figsize=(8,4))\n",
    "plt.bar(val_count.index, val_count.values)\n",
    "plt.title(\"Label Data Distribution\")"
   ]
  },
  {
   "cell_type": "markdown",
   "metadata": {},
   "source": [
    "##### The distribution of the labels is imbalanced but we hope that the marginal effect on predictions will be limited"
   ]
  },
  {
   "cell_type": "code",
   "execution_count": 15,
   "metadata": {},
   "outputs": [],
   "source": [
    "# Stemming of the Reddit Posts\n",
    "english_stemmer = nltk.stem.SnowballStemmer('english')\n",
    "\n",
    "\n",
    "def post_to_wordlist(post, remove_stopwords=True):\n",
    "    # Function to convert a post to a sequence of words,\n",
    "    # optionally removing stop words.  Returns a list of words.\n",
    "\n",
    "    # 1. Remove non-letters\n",
    "    post_text = re.sub(\"[^a-zA-Z]\", \" \", post)\n",
    "\n",
    "    # 2. Convert words to lower case and split them\n",
    "    words = post_text.lower().split()\n",
    "\n",
    "    # 3. Optionally remove stop words (True by default)\n",
    "    if remove_stopwords:\n",
    "        stops = set(stopwords.words(\"english\"))\n",
    "        words = [w for w in words if not w in stops]\n",
    "\n",
    "    b = []\n",
    "    stemmer = english_stemmer  # PorterStemmer()\n",
    "    for word in words:\n",
    "        b.append(stemmer.stem(word))\n",
    "\n",
    "    # 4. Return a list of stemmed words\n",
    "    return b"
   ]
  },
  {
   "cell_type": "code",
   "execution_count": 18,
   "metadata": {},
   "outputs": [],
   "source": [
    "# Using the post_to_wordlist function iteratively on all posts\n",
    "clean = []\n",
    "for post in ssrs['Post']:\n",
    "    clean.append(\" \".join(post_to_wordlist(post)))"
   ]
  },
  {
   "cell_type": "code",
   "execution_count": 19,
   "metadata": {},
   "outputs": [],
   "source": [
    "# Join the cleaned posts with the corresponding labels in a new DF\n",
    "ssrs_c = pd.DataFrame(clean, columns=['Post']).join(ssrs['Label'])"
   ]
  },
  {
   "cell_type": "code",
   "execution_count": 20,
   "metadata": {},
   "outputs": [],
   "source": [
    "# Split Dataset into Training and Test data to be stored in different files\n",
    "training_data, test_data = train_test_split(ssrs_c[['Post', 'Label']], test_size=0.2, stratify=ssrs_c[['Label']],\n",
    "                                            random_state=6)\n",
    "\n",
    "# Split Training Data into Training set and Validation set to be stored in different files\n",
    "train_data, val_data = train_test_split(training_data[['Post', 'Label']], test_size=0.2,\n",
    "                                        stratify=training_data[['Label']], random_state=6)"
   ]
  },
  {
   "cell_type": "code",
   "execution_count": 21,
   "metadata": {},
   "outputs": [],
   "source": [
    "# Fitting a tokenizer on the Training Set to index the known vocabulary\n",
    "tokenizer = Tokenizer(oov_token='OOV')\n",
    "tokenizer.fit_on_texts(train_data['Post'])"
   ]
  },
  {
   "cell_type": "markdown",
   "metadata": {},
   "source": [
    "##### The tokenizer was intentionally fit only on the training set, using the OOV token for unknown words. This way, our model will have the opportunity to learn how to handle unknown words, given that the validation set also contains words that are not present in the training set."
   ]
  },
  {
   "cell_type": "code",
   "execution_count": 23,
   "metadata": {},
   "outputs": [
    {
     "name": "stdout",
     "output_type": "stream",
     "text": [
      "Vocabulary Size : 9211\n"
     ]
    }
   ],
   "source": [
    "# Saving the size and the index of our vocabulary\n",
    "word_index = tokenizer.word_index\n",
    "vocab_size = len(tokenizer.word_index) + 1\n",
    "print(\"Vocabulary Size :\", vocab_size)"
   ]
  },
  {
   "cell_type": "code",
   "execution_count": 24,
   "metadata": {},
   "outputs": [
    {
     "name": "stdout",
     "output_type": "stream",
     "text": [
      "Max Sequence Length : 3183\n"
     ]
    }
   ],
   "source": [
    "# Not all posts have the same length. We need to address that through zero padding\n",
    "MAX_SEQUENCE_LENGTH = max(pd.DataFrame(len(post.split()) for post in clean)[0])\n",
    "print(\"Max Sequence Length :\", MAX_SEQUENCE_LENGTH)"
   ]
  },
  {
   "cell_type": "code",
   "execution_count": 25,
   "metadata": {},
   "outputs": [],
   "source": [
    "# All posts are translated to sequences of numbers through the Tokenizer that was trained earlier\n",
    "# Additionally, zero padding is applied so that all posts have the same length, equal to MAX_SEQUENCE_LENGTH\n",
    "x_train = pad_sequences(tokenizer.texts_to_sequences(train_data['Post']), maxlen=MAX_SEQUENCE_LENGTH)\n",
    "x_val = pad_sequences(tokenizer.texts_to_sequences(val_data['Post']), maxlen=MAX_SEQUENCE_LENGTH)\n",
    "x_test = pad_sequences(tokenizer.texts_to_sequences(test_data['Post']), maxlen=MAX_SEQUENCE_LENGTH)"
   ]
  },
  {
   "cell_type": "code",
   "execution_count": 27,
   "metadata": {},
   "outputs": [],
   "source": [
    "# Manual encoding of our labels due to their Ordinal Nature\n",
    "y_train = np.where(train_data.Label == 'Supportive', 0,\n",
    "                   np.where(train_data.Label == 'Indicator', 1,\n",
    "                            np.where(train_data.Label == 'Ideation', 2,\n",
    "                                     np.where(train_data.Label == 'Behavior', 3, 4))))\n",
    "y_val = np.where(val_data.Label == 'Supportive', 0,\n",
    "                 np.where(val_data.Label == 'Indicator', 1,\n",
    "                          np.where(val_data.Label == 'Ideation', 2,\n",
    "                                   np.where(val_data.Label == 'Behavior', 3, 4))))\n",
    "y_test = np.where(test_data.Label == 'Supportive', 0,\n",
    "                  np.where(test_data.Label == 'Indicator', 1,\n",
    "                           np.where(test_data.Label == 'Ideation', 2,\n",
    "                                    np.where(test_data.Label == 'Behavior', 3, 4))))\n",
    "\n",
    "y_train = y_train.reshape(-1, 1)\n",
    "y_val = y_val.reshape(-1, 1)\n",
    "y_test = y_test.reshape(-1, 1)"
   ]
  },
  {
   "cell_type": "markdown",
   "metadata": {},
   "source": [
    "## Word embeddings\n",
    "#### imported from Glove: the file with pretained embeddings was too large to include it here.  Therefore, the corresponding code blocks have been commented out and we import the final output of this process stored in the embedding_matrix.csv file"
   ]
  },
  {
   "cell_type": "code",
   "execution_count": null,
   "metadata": {},
   "outputs": [],
   "source": [
    "# Importing a set of pretrained word embeddings from the Glove project and tuning them to our vocabulary\n",
    "#embeddings_index = {}   # Dictionary to store the vocabulary and embeddings of Glove\n",
    "\n",
    "#tic = time.time()   # Time variable to check the import speed\n",
    "\n",
    "# Reading the file from glove.\n",
    "#f = open(os.path.join(data_dir, 'glove.42B.300d.txt'), encoding=\"utf8\")\n",
    "#for line in f:\n",
    "#    values = line.split()\n",
    "#    word = value = values[0]\n",
    "#    coefs = np.asarray(values[1:], dtype='float32')\n",
    "#    embeddings_index[word] = coefs\n",
    "#f.close()\n",
    "\n",
    "# Print the number of embeddings that were imported\n",
    "#print(f'loaded {len(embeddings_index)} word vectors from GloVe in {time.time()-tic} seconds')"
   ]
  },
  {
   "cell_type": "code",
   "execution_count": 28,
   "metadata": {},
   "outputs": [],
   "source": [
    "# After importing the word embeddings, we want to see what part of our vocabulary is covered by GloVe\n",
    "def check_coverage(vocab, embeddings_index):\n",
    "    # This function compares a vocabulary against an word frequency dictionary to find the coverage\n",
    "    # Prints the coverage and returns the frequency dictionary sorted in descending order\n",
    "    a = {}\n",
    "    oov = {}\n",
    "    k = 0\n",
    "    i = 0\n",
    "    for word in vocab:\n",
    "        try:\n",
    "            a[word] = embeddings_index[word]\n",
    "            k += vocab[word]\n",
    "        except:\n",
    "\n",
    "            oov[word] = vocab[word]\n",
    "            i += vocab[word]\n",
    "            pass\n",
    "\n",
    "    print('Found embeddings for {:.2%} of training vocab'.format(len(a) / len(vocab)))\n",
    "    print('Found embeddings for  {:.2%} of all training text'.format(k / (k + i)))\n",
    "    sorted_x = sorted(oov.items(), key=operator.itemgetter(1))[::-1]\n",
    "\n",
    "    return sorted_x\n",
    "\n",
    "\n",
    "def build_vocab(sentences):\n",
    "    \"\"\"\n",
    "    :param sentences: list of list of words\n",
    "    :return: dictionary of words and their count\n",
    "    \"\"\"\n",
    "    vocab = {}\n",
    "    for sentence in sentences:\n",
    "        for word in sentence:\n",
    "            try:\n",
    "                vocab[word] += 1\n",
    "            except KeyError:\n",
    "                vocab[word] = 1\n",
    "    return vocab"
   ]
  },
  {
   "cell_type": "code",
   "execution_count": 30,
   "metadata": {},
   "outputs": [],
   "source": [
    "# Count the word frequencies in our vocabulary\n",
    "#vocab = build_vocab(list(train_data['Post'].apply(lambda x: x.split())))\n",
    "\n",
    "# Calculating the coverage and sorting the word frequency dictionary\n",
    "#oov = check_coverage(vocab, embeddings_index)\n",
    "\n",
    "# We now join the dictionary containing the embeddings from GloVe with our vocabulary to only keep the ones we need\n",
    "#EMBEDDING_DIM = 300   # This is the length of the embedding vectors provided by the specific GloVe file\n",
    "\n",
    "#embedding_matrix = np.zeros((vocab_size, EMBEDDING_DIM))   # This will be the matrix to store the final embeddings\n",
    "#for word, i in word_index.items():\n",
    "#    embedding_vector = embeddings_index.get(word)\n",
    "#    if embedding_vector is not None:\n",
    "#        embedding_matrix[i] = embedding_vector"
   ]
  },
  {
   "cell_type": "code",
   "execution_count": 39,
   "metadata": {},
   "outputs": [],
   "source": [
    "# Import the embedding_matrix\n",
    "embedding_matrix = pd.read_csv(os.path.join(root_dir, 'embedding_matrix.csv'))"
   ]
  },
  {
   "cell_type": "markdown",
   "metadata": {},
   "source": [
    "## LSTM model Architecture and Configuration"
   ]
  },
  {
   "cell_type": "code",
   "execution_count": 44,
   "metadata": {},
   "outputs": [],
   "source": [
    "# Importing Libraries\n",
    "import tensorflow as tf\n",
    "from tensorflow.keras.models import Sequential\n",
    "from tensorflow.keras.layers import LSTM\n",
    "from tensorflow.keras.layers import Dense\n",
    "from tensorflow.keras.layers import Dropout\n",
    "from tensorflow.keras.callbacks import ModelCheckpoint, EarlyStopping, ReduceLROnPlateau\n",
    "from sklearn.metrics import confusion_matrix\n",
    "import json\n",
    "import sys"
   ]
  },
  {
   "cell_type": "code",
   "execution_count": 33,
   "metadata": {},
   "outputs": [],
   "source": [
    "# Setting tensorflow seed for reproducibility\n",
    "tf.random.set_seed(0)"
   ]
  },
  {
   "cell_type": "markdown",
   "metadata": {},
   "source": [
    "#### In this section, we will build, configure and train a LSTM model with the following achitecture"
   ]
  },
  {
   "attachments": {
    "image.png": {
     "image/png": "[encoded data removed]"
    }
   },
   "cell_type": "markdown",
   "metadata": {},
   "source": [
    "![image.png](attachment:image.png)"
   ]
  },
  {
   "cell_type": "markdown",
   "metadata": {},
   "source": [
    "### Model configuration"
   ]
  },
  {
   "cell_type": "code",
   "execution_count": 41,
   "metadata": {},
   "outputs": [],
   "source": [
    "# ### Constant Parameters ###\n",
    "max_sequence_length = 3183\n",
    "verbosity_mode = 1\n",
    "EMBEDDING_DIM = 300\n",
    "vocab_size = len(embedding_matrix)"
   ]
  },
  {
   "cell_type": "code",
   "execution_count": 35,
   "metadata": {},
   "outputs": [],
   "source": [
    "# Creating the configuration file path\n",
    "config = 'config7.json'\n",
    "config_path = os.path.join(root_dir,config)\n",
    "\n",
    "# Read configuration file\n",
    "with open(config_path) as json_data_file:\n",
    "    config_data = json.load(json_data_file)   # Dictionary to store the configuration parameters"
   ]
  },
  {
   "cell_type": "code",
   "execution_count": 36,
   "metadata": {},
   "outputs": [],
   "source": [
    "#Read the model parameters from the configuration file\n",
    "batch_size = int(config_data[\"batch_size\"])\n",
    "number_of_epochs = int(config_data[\"number_of_epochs\"])\n",
    "optimizer = 'rmsprop'\n",
    "LSTM1_units = int(config_data[\"LSTM1_units\"])\n",
    "LSTM1_drop = float(config_data[\"LSTM1_drop\"])\n",
    "LSTM1_rec_drop = float(config_data[\"LSTM1_rec_drop\"])\n",
    "Dense1_units = int(config_data[\"Dense1_units\"])\n",
    "Dense1_act = config_data[\"Dense1_act\"]\n",
    "Dropout1 = float(config_data[\"Dropout1\"])"
   ]
  },
  {
   "cell_type": "code",
   "execution_count": 37,
   "metadata": {},
   "outputs": [],
   "source": [
    "# Disable eager execution\n",
    "tf.compat.v1.disable_eager_execution()"
   ]
  },
  {
   "cell_type": "markdown",
   "metadata": {},
   "source": [
    "### Model building"
   ]
  },
  {
   "cell_type": "code",
   "execution_count": 40,
   "metadata": {},
   "outputs": [
    {
     "name": "stdout",
     "output_type": "stream",
     "text": [
      "Model: \"sequential_1\"\n",
      "_________________________________________________________________\n",
      "Layer (type)                 Output Shape              Param #   \n",
      "=================================================================\n",
      "embedding_1 (Embedding)      (None, 3183, 300)         2763300   \n",
      "_________________________________________________________________\n",
      "lstm (LSTM)                  (None, 12)                15024     \n",
      "_________________________________________________________________\n",
      "dropout (Dropout)            (None, 12)                0         \n",
      "_________________________________________________________________\n",
      "dense (Dense)                (None, 6)                 78        \n",
      "_________________________________________________________________\n",
      "dense_1 (Dense)              (None, 1)                 7         \n",
      "=================================================================\n",
      "Total params: 2,778,409\n",
      "Trainable params: 15,109\n",
      "Non-trainable params: 2,763,300\n",
      "_________________________________________________________________\n"
     ]
    }
   ],
   "source": [
    "# Define the Keras model\n",
    "model = Sequential()\n",
    "\n",
    "# Embedding Layer\n",
    "model.add(tf.keras.layers.Embedding(vocab_size,\n",
    "                                    EMBEDDING_DIM,\n",
    "                                    weights=[embedding_matrix],\n",
    "                                    input_length=max_sequence_length,\n",
    "                                    trainable=False))\n",
    "# 1st LSTM Layer\n",
    "model.add(LSTM(LSTM1_units, dropout=LSTM1_drop, recurrent_dropout=LSTM1_rec_drop, return_sequences=False,\n",
    "               input_shape=(max_sequence_length, vocab_size)))\n",
    "# 1st Dropout Layer\n",
    "model.add(Dropout(Dropout1))\n",
    "\n",
    "# 1st Dense Layer\n",
    "model.add(Dense(units=Dense1_units, activation=Dense1_act))\n",
    "\n",
    "# Output Layer\n",
    "model.add(Dense(units=1, activation='linear'))\n",
    "\n",
    "# Compile the model\n",
    "model.compile(optimizer=optimizer, loss='mse')\n",
    "\n",
    "# Give a summary of the model\n",
    "model.summary()"
   ]
  },
  {
   "cell_type": "code",
   "execution_count": 45,
   "metadata": {},
   "outputs": [],
   "source": [
    "# Model callbacks\n",
    "\n",
    "# Defining the Learning Rate decay\n",
    "ReduceLROnPlateau = ReduceLROnPlateau(factor=0.1, min_lr=0.01, monitor='loss', verbose=1)\n",
    "\n",
    "# Creating a checkpoint callback to export the best model of the training phase\n",
    "checkpoint_filepath = os.path.join(root_dir, 'Checkpoint')\n",
    "model_checkpoint_callback = tf.keras.callbacks.ModelCheckpoint(\n",
    "     filepath=checkpoint_filepath,\n",
    "     save_weights_only=False,\n",
    "     monitor='val_loss',\n",
    "     mode='min',\n",
    "     save_best_only=True)"
   ]
  },
  {
   "cell_type": "markdown",
   "metadata": {},
   "source": [
    "### Implementation of the CEM (Closeness Evaluation Measure)"
   ]
  },
  {
   "cell_type": "code",
   "execution_count": 47,
   "metadata": {},
   "outputs": [],
   "source": [
    "from sklearn import metrics\n",
    "from sklearn.metrics import confusion_matrix\n",
    "import math\n",
    "import keras\n",
    "\n",
    "#This class will allow us to plot CEM calculated on the validation set at the end of each training epoch. \n",
    "class CEM(keras.callbacks.Callback):\n",
    "\n",
    "    def __init__(self, train, validation=None):\n",
    "        super(CEM, self).__init__()\n",
    "        self.validation = validation\n",
    "        self.train = train\n",
    "\n",
    "    def on_epoch_end(self, epoch, logs={}):\n",
    "\n",
    "        X_valid, y_valid = self.validation[0], self.validation[1]\n",
    "        y_pred = np.asarray(self.model.predict(X_valid))\n",
    "        \n",
    "        #Round the regression outputs to represent classes\n",
    "        y_pred_cat=y_pred.round(0).astype(int)\n",
    "        y_predict_cat=y_pred_cat.reshape(-1,1)\n",
    "        \n",
    "        #Calculate the confusion matrix\n",
    "        matrix=(metrics.confusion_matrix(y_valid, y_predict_cat,labels=[0,1,2,3,4]))\n",
    "        \n",
    "        #Calculation of the CEM\n",
    "        mat=pd.DataFrame(matrix)\n",
    "        mat.loc['Total'] = pd.Series(mat.sum())\n",
    "        mat['Total'] = mat.sum(axis=1)\n",
    "        class_proxim=pd.DataFrame(np.zeros((len(mat)-1, len(mat)-1)))\n",
    "        ttl=mat.iloc[-1,-1]\n",
    "        for row in range(0, len(mat)-1):\n",
    "            for column in range(0, len(mat.columns)-1):\n",
    "                if row==column:\n",
    "                    if mat.iloc[-1,column]==0:\n",
    "                        class_proxim.iloc[row,column]=0.0000001\n",
    "                    else:\n",
    "                        class_proxim.iloc[row,column]=-math.log2((mat.iloc[-1,column]/2)/ttl)\n",
    "                elif abs(row-column)==1:\n",
    "                    if mat.iloc[-1,row]/2+mat.iloc[-1,column]==0:\n",
    "                        class_proxim.iloc[row,column]=0.0000001\n",
    "                    else:\n",
    "                        class_proxim.iloc[row,column]=-math.log2((mat.iloc[-1,row]/2+mat.iloc[-1,column])/ttl)\n",
    "                elif abs(row-column)==2:\n",
    "                    if row>column:\n",
    "                        if mat.iloc[-1,row]/2+mat.iloc[-1,row-1]+mat.iloc[-1,column]==0:\n",
    "                            class_proxim.iloc[row,column]=0.0000001\n",
    "                        else:\n",
    "                            class_proxim.iloc[row,column]=-math.log2((mat.iloc[-1,row]/2+mat.iloc[-1,row-1]+mat.iloc[-1,column])/ttl)\n",
    "                    else:\n",
    "                        if mat.iloc[-1,row]/2+mat.iloc[-1,column-1]+mat.iloc[-1,column]==0:\n",
    "                            class_proxim.iloc[row,column]=0.0000001\n",
    "                        else:\n",
    "                            class_proxim.iloc[row,column]=-math.log2((mat.iloc[-1,row]/2+mat.iloc[-1,column-1]+mat.iloc[-1,column])/ttl)\n",
    "                elif abs(row-column)==3:\n",
    "                    if row>column:\n",
    "                        if mat.iloc[-1,row]/2+mat.iloc[-1,row-2]+mat.iloc[-1,row-1]+mat.iloc[-1,column]==0:\n",
    "                            class_proxim.iloc[row,column]=0.0000001\n",
    "                        else:\n",
    "                            class_proxim.iloc[row,column]=-math.log2((mat.iloc[-1,row]/2+mat.iloc[-1,row-2]+mat.iloc[-1,row-1]+mat.iloc[-1,column])/ttl)\n",
    "                    else:\n",
    "                        if mat.iloc[-1,row]/2+mat.iloc[-1,column-2]+mat.iloc[-1,column-1]+mat.iloc[-1,column]==0:\n",
    "                            class_proxim.iloc[row,column]=0.0000001\n",
    "                        else:\n",
    "                            class_proxim.iloc[row,column]=-math.log2((mat.iloc[-1,row]/2+mat.iloc[-1,column-2]+mat.iloc[-1,column-1]+mat.iloc[-1,column])/ttl)\n",
    "                elif abs(row-column)==4:\n",
    "                    if row>column:\n",
    "                        if mat.iloc[-1,row]/2+mat.iloc[-1,row-3]+mat.iloc[-1,row-2]+mat.iloc[-1,row-1]+mat.iloc[-1,column]==0:\n",
    "                            class_proxim.iloc[row,column]=0.0000001\n",
    "                        else:\n",
    "                            class_proxim.iloc[row,column]=-math.log2((mat.iloc[-1,row]/2+mat.iloc[-1,row-3]+mat.iloc[-1,row-2]+mat.iloc[-1,row-1]+mat.iloc[-1,column])/ttl)\n",
    "                    else:\n",
    "                        if mat.iloc[-1,row]/2+mat.iloc[-1,column-3]+mat.iloc[-1,column-2]+mat.iloc[-1,column-1]+mat.iloc[-1,column]==0:\n",
    "                            class_proxim.iloc[row,column]=0.0000001\n",
    "                        else:\n",
    "                            class_proxim.iloc[row,column]=-math.log2((mat.iloc[-1,row]/2+mat.iloc[-1,column-3]+mat.iloc[-1,column-2]+mat.iloc[-1,column-1]+mat.iloc[-1,column])/ttl)\n",
    "        cem_=mat.iloc[:-1,:-1].mul(class_proxim)\n",
    "        numerator=cem_.to_numpy().sum()\n",
    "        denominator=0\n",
    "        for column in range(0, len(mat)-1):\n",
    "            denom=mat.iloc[-1,column]*class_proxim.iloc[column,column]\n",
    "            denominator=denominator+denom\n",
    "        cem=numerator/denominator\n",
    "        print(\" CEM:\",cem)\n",
    "        return(cem)"
   ]
  },
  {
   "cell_type": "markdown",
   "metadata": {},
   "source": [
    "### Model training"
   ]
  },
  {
   "cell_type": "markdown",
   "metadata": {},
   "source": [
    "#### The following cell has been executed to train the model just for 5 epochs in order to illustrate some indicative results and, especially, the output of the customized evaluation metric CEM at the end of each training epoch."
   ]
  },
  {
   "cell_type": "code",
   "execution_count": 48,
   "metadata": {},
   "outputs": [
    {
     "name": "stdout",
     "output_type": "stream",
     "text": [
      "Train on 320 samples, validate on 80 samples\n",
      "Epoch 1/5\n",
      "320/320 [==============================] - ETA: 0s - loss: 3.0271 "
     ]
    },
    {
     "name": "stderr",
     "output_type": "stream",
     "text": [
      "C:\\Users\\Maria\\AppData\\Roaming\\Python\\Python38\\site-packages\\tensorflow\\python\\keras\\engine\\training.py:2325: UserWarning: `Model.state_updates` will be removed in a future version. This property should not be used in TensorFlow 2.0, as `updates` are applied automatically.\n",
      "  warnings.warn('`Model.state_updates` will be removed in a future version. '\n"
     ]
    },
    {
     "name": "stdout",
     "output_type": "stream",
     "text": [
      "INFO:tensorflow:Assets written to: C:\\Checkpoint\\assets\n"
     ]
    },
    {
     "name": "stderr",
     "output_type": "stream",
     "text": [
      "C:\\Users\\Maria\\AppData\\Roaming\\Python\\Python38\\site-packages\\tensorflow\\python\\keras\\engine\\training.py:2325: UserWarning: `Model.state_updates` will be removed in a future version. This property should not be used in TensorFlow 2.0, as `updates` are applied automatically.\n",
      "  warnings.warn('`Model.state_updates` will be removed in a future version. '\n"
     ]
    },
    {
     "name": "stdout",
     "output_type": "stream",
     "text": [
      " CEM: 0.2\n",
      "320/320 [==============================] - 158s 493ms/sample - loss: 3.0271 - val_loss: 2.3208\n",
      "Epoch 2/5\n",
      "320/320 [==============================] - ETA: 0s - loss: 2.1781 INFO:tensorflow:Assets written to: C:\\Checkpoint\\assets\n",
      " CEM: 0.2\n",
      "320/320 [==============================] - 160s 501ms/sample - loss: 2.1781 - val_loss: 1.8538\n",
      "Epoch 3/5\n",
      "320/320 [==============================] - ETA: 0s - loss: 1.7814 INFO:tensorflow:Assets written to: C:\\Checkpoint\\assets\n",
      " CEM: 0.3528507966690242\n",
      "320/320 [==============================] - 200s 624ms/sample - loss: 1.7814 - val_loss: 1.6334\n",
      "Epoch 4/5\n",
      "320/320 [==============================] - ETA: 0s - loss: 1.5926 INFO:tensorflow:Assets written to: C:\\Checkpoint\\assets\n",
      " CEM: 0.392427370689648\n",
      "320/320 [==============================] - 182s 568ms/sample - loss: 1.5926 - val_loss: 1.5267\n",
      "Epoch 5/5\n",
      "320/320 [==============================] - ETA: 0s - loss: 1.5385 INFO:tensorflow:Assets written to: C:\\Checkpoint\\assets\n",
      " CEM: 0.379045389299085\n",
      "320/320 [==============================] - 183s 572ms/sample - loss: 1.5385 - val_loss: 1.4969\n"
     ]
    }
   ],
   "source": [
    "# Fetching features and labels for the training process\n",
    "train_data_n = np.c_[x_train, y_train]\n",
    "valid_data_n = np.c_[x_val, y_val]\n",
    "\n",
    "# Training the model and storing the history\n",
    "history = model.fit(train_data_n[:, :-1], train_data_n[:, -1], batch_size=batch_size, epochs=number_of_epochs,\n",
    "                    verbose=verbosity_mode, shuffle=True, validation_data=(valid_data_n[:, :-1], valid_data_n[:, -1]),\n",
    "                    callbacks=[EarlyStopping(monitor='val_loss', patience=5), model_checkpoint_callback,\n",
    "                               ReduceLROnPlateau,CEM(train=(train_data_n[:,:-1],train_data_n[:,-1]),validation=(valid_data_n[:,:-1],valid_data_n[:,-1]))])"
   ]
  },
  {
   "cell_type": "code",
   "execution_count": 50,
   "metadata": {},
   "outputs": [
    {
     "data": {
      "image/png": "[encoded data removed]",
      "text/plain": [
       "<Figure size 432x288 with 1 Axes>"
      ]
     },
     "metadata": {
      "needs_background": "light"
     },
     "output_type": "display_data"
    }
   ],
   "source": [
    "# Plot a training-validation loss over epochs plot\n",
    "plt.plot(history.history['loss'])\n",
    "plt.plot(history.history['val_loss'])\n",
    "plt.title('model loss')\n",
    "plt.ylabel('loss')\n",
    "plt.xlabel('epoch')\n",
    "plt.legend(['train', 'test'], loc='upper left')\n",
    "plt.show()"
   ]
  },
  {
   "cell_type": "code",
   "execution_count": 52,
   "metadata": {},
   "outputs": [],
   "source": [
    "# Importing the best model\n",
    "imported_model = tf.keras.models.load_model(os.path.join(root_dir,'Checkpoint'))"
   ]
  },
  {
   "cell_type": "code",
   "execution_count": 54,
   "metadata": {},
   "outputs": [],
   "source": [
    "# Prediction using the imported model\n",
    "y_estimate = imported_model.predict(x_test)\n",
    "\n",
    "# Round the regression outputs to represent classes\n",
    "for index, element in enumerate(y_estimate):\n",
    "    element[0] = round(element[0])"
   ]
  },
  {
   "cell_type": "code",
   "execution_count": 56,
   "metadata": {},
   "outputs": [
    {
     "data": {
      "text/plain": [
       "array([[ 0,  7, 15,  0,  0],\n",
       "       [ 0,  7, 13,  0,  0],\n",
       "       [ 0,  9, 25,  0,  0],\n",
       "       [ 0,  3, 12,  0,  0],\n",
       "       [ 0,  2,  7,  0,  0]], dtype=int64)"
      ]
     },
     "execution_count": 56,
     "metadata": {},
     "output_type": "execute_result"
    }
   ],
   "source": [
    "y_pred_cat = y_estimate.astype(int)\n",
    "y_predict_cat = y_pred_cat.reshape(-1, 1)\n",
    "\n",
    "# Calculate the confusion matrix\n",
    "matrix = (metrics.confusion_matrix(y_test, y_predict_cat, labels=[0, 1, 2, 3, 4]))\n",
    "matrix"
   ]
  },
  {
   "cell_type": "code",
   "execution_count": 59,
   "metadata": {},
   "outputs": [
    {
     "name": "stdout",
     "output_type": "stream",
     "text": [
      "Accuracy =  0.32\n",
      "Macro Average F1 =  0.15267295597484276\n"
     ]
    }
   ],
   "source": [
    "from sklearn.metrics import accuracy_score\n",
    "from sklearn.metrics import f1_score\n",
    "accuracy = accuracy_score(y_test, y_estimate)\n",
    "print('Accuracy = ', accuracy)\n",
    "\n",
    "f1_score = f1_score(y_test, y_estimate, average='macro',)\n",
    "print('Macro Average F1 = ', f1_score)"
   ]
  },
  {
   "cell_type": "markdown",
   "metadata": {},
   "source": [
    "## Discussion\n",
    "\n",
    "- All models converge to val_loss=1.5. It seems that there is not much to learn under this LSTM setting. Essentially, models learn to predict every test set instance within the classes 1(indicator) and 2 (ideation). \n",
    "- As we make models more complex to learn better, we transition to overfitting\n",
    "- Maybe DL is not the right way to go. We would need way more data.\n",
    "- We could use subsampling to do our model more robust, but we have a really small minority class.\n",
    "- We could use simpler embeddings, or perhaps even train our own. \n",
    "- We should explore ML algorithms (such as Naive Bayes and SVM)"
   ]
  },
  {
   "cell_type": "code",
   "execution_count": null,
   "metadata": {},
   "outputs": [],
   "source": []
  }
 ],
 "metadata": {
  "kernelspec": {
   "display_name": "Python 3",
   "language": "python",
   "name": "python3"
  },
  "language_info": {
   "codemirror_mode": {
    "name": "ipython",
    "version": 3
   },
   "file_extension": ".py",
   "mimetype": "text/x-python",
   "name": "python",
   "nbconvert_exporter": "python",
   "pygments_lexer": "ipython3",
   "version": "3.8.3"
  }
 },
 "nbformat": 4,
 "nbformat_minor": 4
}
